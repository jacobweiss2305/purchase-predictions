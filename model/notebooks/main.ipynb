{
 "cells": [
  {
   "cell_type": "markdown",
   "id": "416d446e-7e2c-42ce-8981-f589b05bae48",
   "metadata": {},
   "source": [
    "# Predicting Purchases from Clickstream Data"
   ]
  },
  {
   "cell_type": "markdown",
   "id": "aaaf4834-fd18-4db1-87c1-bc9e21522ee6",
   "metadata": {},
   "source": [
    "The objective of the case study is to predict whether a session will result in a purchase given a sequence of click events from an e-commerce website."
   ]
  },
  {
   "cell_type": "markdown",
   "id": "25c8a062-2fbe-4172-b490-b21a48d48f1d",
   "metadata": {},
   "source": [
    "---\n",
    "### Table of Contents:\n",
    "\n",
    "1. Load datasets, packages, and parameters\n",
    "2. Clickstream Exploratory Analysis\n",
    "3. Purchase Response Variable\n",
    "4. Feature Table\n",
    "5. Binary Classification Model Training\n",
    "6. Regression Model Training\n",
    "7. Inference\n",
    "\n",
    "---"
   ]
  },
  {
   "cell_type": "markdown",
   "id": "e24753cc-4364-4dfc-b55d-10024e00a92c",
   "metadata": {
    "tags": []
   },
   "source": [
    "# 1. Load datasets, packages, and parameters"
   ]
  },
  {
   "cell_type": "code",
   "execution_count": 23,
   "id": "fec95126-a50d-48d2-88a7-db79ade0bbd4",
   "metadata": {},
   "outputs": [
    {
     "name": "stdout",
     "output_type": "stream",
     "text": [
      "2021-12-15 14:40:22,324 - kedro.framework.session.store - INFO - `read()` not implemented for `BaseSessionStore`. Assuming empty store.\n",
      "2021-12-15 14:40:22,432 - root - INFO - ** Kedro project Purchase Predictions\n",
      "2021-12-15 14:40:22,433 - root - INFO - Defined global variable `context`, `session` and `catalog`\n"
     ]
    }
   ],
   "source": [
    "%reload_kedro\n",
    "import matplotlib.pyplot as plt\n",
    "import pandas as pd\n",
    "import numpy as np\n",
    "import warnings\n",
    "\n",
    "from imblearn.over_sampling import SMOTE\n",
    "\n",
    "from process.pipelines.data_processing import nodes as dp\n",
    "from process.pipelines.data_science import nodes as ds"
   ]
  },
  {
   "cell_type": "code",
   "execution_count": 44,
   "id": "2be6b76c-6041-41f9-847c-61ae606e838d",
   "metadata": {},
   "outputs": [
    {
     "name": "stdout",
     "output_type": "stream",
     "text": [
      "2021-12-15 14:43:33,987 - kedro.io.data_catalog - INFO - Loading data from `clickstream` (CSVDataSet)...\n",
      "2021-12-15 14:44:01,317 - kedro.io.data_catalog - INFO - Loading data from `purchase` (CSVDataSet)...\n",
      "2021-12-15 14:44:01,803 - kedro.io.data_catalog - INFO - Loading data from `test` (CSVDataSet)...\n"
     ]
    }
   ],
   "source": [
    "clickstream = catalog.load('clickstream').sort_values(by = ['session_id', 'timestamp']).set_index('session_id')\n",
    "purchase = catalog.load('purchase').sort_values(by = ['session_id', 'timestamp']).set_index('session_id')\n",
    "test = catalog.load('test').sort_values(by = ['session_id', 'timestamp']).set_index('session_id')\n",
    "warnings.filterwarnings('ignore')"
   ]
  },
  {
   "cell_type": "markdown",
   "id": "18dcbf05-9b83-4e5c-b1b0-71f5f0a71ab4",
   "metadata": {
    "tags": []
   },
   "source": [
    "# 2. Clickstream Exploratory Data Analysis"
   ]
  },
  {
   "cell_type": "markdown",
   "id": "884cb2b7-2132-456b-b06b-2df5cd054463",
   "metadata": {},
   "source": [
    "- We will need to generate the following features:\n",
    "    - Total Clicks per Session\n",
    "    - Total Seconds per Session\n",
    "    - Count unique item id per \n",
    "    - One hot encoding for category\n",
    "- Generate statistical distributions for clicks, seconds, and unique items.\n",
    "- Key Takeaways"
   ]
  },
  {
   "cell_type": "code",
   "execution_count": 25,
   "id": "67a012b2-26d1-4711-aebb-a76af70599fd",
   "metadata": {},
   "outputs": [
    {
     "data": {
      "text/html": [
       "<div>\n",
       "<style scoped>\n",
       "    .dataframe tbody tr th:only-of-type {\n",
       "        vertical-align: middle;\n",
       "    }\n",
       "\n",
       "    .dataframe tbody tr th {\n",
       "        vertical-align: top;\n",
       "    }\n",
       "\n",
       "    .dataframe thead th {\n",
       "        text-align: right;\n",
       "    }\n",
       "</style>\n",
       "<table border=\"1\" class=\"dataframe\">\n",
       "  <thead>\n",
       "    <tr style=\"text-align: right;\">\n",
       "      <th></th>\n",
       "      <th>timestamp</th>\n",
       "      <th>item_id</th>\n",
       "      <th>category</th>\n",
       "    </tr>\n",
       "    <tr>\n",
       "      <th>session_id</th>\n",
       "      <th></th>\n",
       "      <th></th>\n",
       "      <th></th>\n",
       "    </tr>\n",
       "  </thead>\n",
       "  <tbody>\n",
       "    <tr>\n",
       "      <th>9194112</th>\n",
       "      <td>2020-09-01 13:26:36.292</td>\n",
       "      <td>214853422</td>\n",
       "      <td>S</td>\n",
       "    </tr>\n",
       "    <tr>\n",
       "      <th>9194127</th>\n",
       "      <td>2020-09-01 15:36:11.651</td>\n",
       "      <td>214845997</td>\n",
       "      <td>6</td>\n",
       "    </tr>\n",
       "    <tr>\n",
       "      <th>9194127</th>\n",
       "      <td>2020-09-01 15:38:00.222</td>\n",
       "      <td>214845997</td>\n",
       "      <td>6</td>\n",
       "    </tr>\n",
       "    <tr>\n",
       "      <th>9194127</th>\n",
       "      <td>2020-09-01 15:38:56.867</td>\n",
       "      <td>214845997</td>\n",
       "      <td>6</td>\n",
       "    </tr>\n",
       "    <tr>\n",
       "      <th>9194131</th>\n",
       "      <td>2020-09-01 09:49:58.293</td>\n",
       "      <td>214853420</td>\n",
       "      <td>S</td>\n",
       "    </tr>\n",
       "  </tbody>\n",
       "</table>\n",
       "</div>"
      ],
      "text/plain": [
       "                          timestamp    item_id category\n",
       "session_id                                             \n",
       "9194112     2020-09-01 13:26:36.292  214853422        S\n",
       "9194127     2020-09-01 15:36:11.651  214845997        6\n",
       "9194127     2020-09-01 15:38:00.222  214845997        6\n",
       "9194127     2020-09-01 15:38:56.867  214845997        6\n",
       "9194131     2020-09-01 09:49:58.293  214853420        S"
      ]
     },
     "execution_count": 25,
     "metadata": {},
     "output_type": "execute_result"
    }
   ],
   "source": [
    "clickstream.head()"
   ]
  },
  {
   "cell_type": "code",
   "execution_count": 26,
   "id": "d4508dbd-b201-4232-af42-0e3685d0c859",
   "metadata": {},
   "outputs": [
    {
     "data": {
      "text/html": [
       "<div>\n",
       "<style scoped>\n",
       "    .dataframe tbody tr th:only-of-type {\n",
       "        vertical-align: middle;\n",
       "    }\n",
       "\n",
       "    .dataframe tbody tr th {\n",
       "        vertical-align: top;\n",
       "    }\n",
       "\n",
       "    .dataframe thead th {\n",
       "        text-align: right;\n",
       "    }\n",
       "</style>\n",
       "<table border=\"1\" class=\"dataframe\">\n",
       "  <thead>\n",
       "    <tr style=\"text-align: right;\">\n",
       "      <th></th>\n",
       "      <th>total_clicks</th>\n",
       "      <th>seconds_per_session</th>\n",
       "      <th>count_unique_items</th>\n",
       "      <th>brand</th>\n",
       "      <th>missing</th>\n",
       "      <th>regular</th>\n",
       "      <th>special offer</th>\n",
       "    </tr>\n",
       "    <tr>\n",
       "      <th>session_id</th>\n",
       "      <th></th>\n",
       "      <th></th>\n",
       "      <th></th>\n",
       "      <th></th>\n",
       "      <th></th>\n",
       "      <th></th>\n",
       "      <th></th>\n",
       "    </tr>\n",
       "  </thead>\n",
       "  <tbody>\n",
       "    <tr>\n",
       "      <th>9194112</th>\n",
       "      <td>1</td>\n",
       "      <td>0.000</td>\n",
       "      <td>1</td>\n",
       "      <td>0</td>\n",
       "      <td>0</td>\n",
       "      <td>0</td>\n",
       "      <td>1</td>\n",
       "    </tr>\n",
       "    <tr>\n",
       "      <th>9194127</th>\n",
       "      <td>3</td>\n",
       "      <td>165.216</td>\n",
       "      <td>1</td>\n",
       "      <td>0</td>\n",
       "      <td>0</td>\n",
       "      <td>1</td>\n",
       "      <td>0</td>\n",
       "    </tr>\n",
       "    <tr>\n",
       "      <th>9194132</th>\n",
       "      <td>2</td>\n",
       "      <td>45.264</td>\n",
       "      <td>2</td>\n",
       "      <td>0</td>\n",
       "      <td>1</td>\n",
       "      <td>0</td>\n",
       "      <td>0</td>\n",
       "    </tr>\n",
       "    <tr>\n",
       "      <th>9194132</th>\n",
       "      <td>2</td>\n",
       "      <td>45.264</td>\n",
       "      <td>2</td>\n",
       "      <td>0</td>\n",
       "      <td>0</td>\n",
       "      <td>0</td>\n",
       "      <td>1</td>\n",
       "    </tr>\n",
       "    <tr>\n",
       "      <th>9194152</th>\n",
       "      <td>3</td>\n",
       "      <td>136.419</td>\n",
       "      <td>3</td>\n",
       "      <td>0</td>\n",
       "      <td>0</td>\n",
       "      <td>0</td>\n",
       "      <td>1</td>\n",
       "    </tr>\n",
       "  </tbody>\n",
       "</table>\n",
       "</div>"
      ],
      "text/plain": [
       "            total_clicks  seconds_per_session  count_unique_items  brand  \\\n",
       "session_id                                                                 \n",
       "9194112                1                0.000                   1      0   \n",
       "9194127                3              165.216                   1      0   \n",
       "9194132                2               45.264                   2      0   \n",
       "9194132                2               45.264                   2      0   \n",
       "9194152                3              136.419                   3      0   \n",
       "\n",
       "            missing  regular  special offer  \n",
       "session_id                                   \n",
       "9194112           0        0              1  \n",
       "9194127           0        1              0  \n",
       "9194132           1        0              0  \n",
       "9194132           0        0              1  \n",
       "9194152           0        0              1  "
      ]
     },
     "execution_count": 26,
     "metadata": {},
     "output_type": "execute_result"
    }
   ],
   "source": [
    "total_clicks = dp.total_clicks(clickstream)\n",
    "clickstream = clickstream.join(total_clicks, how='left')\n",
    "\n",
    "seconds_per_session = dp.total_seconds(clickstream)\n",
    "clickstream = clickstream.join(seconds_per_session['seconds_per_session']).drop('timestamp', axis = 1).drop_duplicates()\n",
    "\n",
    "unique_items = dp.count_unique_items(clickstream)\n",
    "clickstream = clickstream.join(unique_items).drop('item_id', axis = 1).drop_duplicates()\n",
    "\n",
    "category_map = dp.category_map(clickstream)\n",
    "clickstream = clickstream.join(pd.get_dummies(category_map)).drop(['category', 'category_map'], axis = 1).drop_duplicates()\n",
    "\n",
    "clickstream.head()"
   ]
  },
  {
   "cell_type": "code",
   "execution_count": 27,
   "id": "0e99d834-86be-4ab3-bd53-8dfe47051f51",
   "metadata": {},
   "outputs": [
    {
     "name": "stdout",
     "output_type": "stream",
     "text": [
      "count    1.094180e+06\n",
      "mean     5.016289e+00\n",
      "std      5.295392e+00\n",
      "min      1.000000e+00\n",
      "25%      2.000000e+00\n",
      "50%      3.000000e+00\n",
      "75%      6.000000e+00\n",
      "max      2.000000e+02\n",
      "Name: total_clicks, dtype: float64\n"
     ]
    },
    {
     "data": {
      "image/png": "[encoded data removed]",
      "text/plain": [
       "<Figure size 432x288 with 2 Axes>"
      ]
     },
     "metadata": {
      "needs_background": "light"
     },
     "output_type": "display_data"
    },
    {
     "name": "stdout",
     "output_type": "stream",
     "text": [
      "--------------------------------------------------------------------------------------------------------------------\n",
      "count    1.094180e+06\n",
      "mean     6.215490e+02\n",
      "std      1.034749e+03\n",
      "min      0.000000e+00\n",
      "25%      1.064778e+02\n",
      "50%      2.666460e+02\n",
      "75%      6.894570e+02\n",
      "max      2.459380e+05\n",
      "Name: seconds_per_session, dtype: float64\n"
     ]
    },
    {
     "data": {
      "image/png": "[encoded data removed]",
      "text/plain": [
       "<Figure size 432x288 with 2 Axes>"
      ]
     },
     "metadata": {
      "needs_background": "light"
     },
     "output_type": "display_data"
    },
    {
     "name": "stdout",
     "output_type": "stream",
     "text": [
      "--------------------------------------------------------------------------------------------------------------------\n",
      "count    1.094180e+06\n",
      "mean     4.042712e+00\n",
      "std      4.282752e+00\n",
      "min      1.000000e+00\n",
      "25%      2.000000e+00\n",
      "50%      3.000000e+00\n",
      "75%      5.000000e+00\n",
      "max      2.000000e+02\n",
      "Name: count_unique_items, dtype: float64\n"
     ]
    },
    {
     "data": {
      "image/png": "[encoded data removed]",
      "text/plain": [
       "<Figure size 432x288 with 2 Axes>"
      ]
     },
     "metadata": {
      "needs_background": "light"
     },
     "output_type": "display_data"
    }
   ],
   "source": [
    "dp.stat_plots(clickstream, 'total_clicks')\n",
    "print('--------------------------------------------------------------------------------------------------------------------')\n",
    "dp.stat_plots(clickstream, 'seconds_per_session')\n",
    "print('--------------------------------------------------------------------------------------------------------------------')\n",
    "dp.stat_plots(clickstream, 'count_unique_items')"
   ]
  },
  {
   "cell_type": "code",
   "execution_count": 28,
   "id": "9d436517-c2ba-4f98-bacb-e2e2cb139867",
   "metadata": {},
   "outputs": [
    {
     "data": {
      "image/png": "[encoded data removed]",
      "text/plain": [
       "<Figure size 432x288 with 1 Axes>"
      ]
     },
     "metadata": {
      "needs_background": "light"
     },
     "output_type": "display_data"
    }
   ],
   "source": [
    "category_dist = pd.concat([clickstream['brand'].value_counts(normalize = True),\n",
    "                            clickstream['missing'].value_counts(normalize = True),\n",
    "                            clickstream['regular'].value_counts(normalize = True),\n",
    "                            clickstream['special offer'].value_counts(normalize = True)], \n",
    "                          axis = 1)\n",
    "dp.stacked_bar_chart(category_dist, 'Table Coverage by Category')"
   ]
  },
  {
   "cell_type": "code",
   "execution_count": 29,
   "id": "e858f941-1b40-4455-a3dd-4058e5c8a80c",
   "metadata": {},
   "outputs": [
    {
     "data": {
      "image/png": "[encoded data removed]",
      "text/plain": [
       "<Figure size 432x288 with 1 Axes>"
      ]
     },
     "metadata": {
      "needs_background": "light"
     },
     "output_type": "display_data"
    }
   ],
   "source": [
    "average_clicks_by_category = pd.concat([clickstream.groupby('brand').total_clicks.mean(),\n",
    "                                        clickstream.groupby('missing').total_clicks.mean(),\n",
    "                                        clickstream.groupby('regular').total_clicks.mean(),\n",
    "                                        clickstream.groupby('special offer').total_clicks.mean()], axis = 1)\n",
    "average_clicks_by_category.columns = ['brand','missing','regular','special offer']\n",
    "dp.stacked_bar_chart(average_clicks_by_category, 'Average Clicks by Category')"
   ]
  },
  {
   "cell_type": "code",
   "execution_count": 30,
   "id": "93ed9d7d-2bdd-47c3-8e00-6cad25a15cc3",
   "metadata": {},
   "outputs": [
    {
     "data": {
      "image/png": "[encoded data removed]",
      "text/plain": [
       "<Figure size 432x288 with 1 Axes>"
      ]
     },
     "metadata": {
      "needs_background": "light"
     },
     "output_type": "display_data"
    }
   ],
   "source": [
    "average_seconds_by_category = pd.concat([clickstream.groupby('brand').seconds_per_session.mean(),\n",
    "                                         clickstream.groupby('missing').seconds_per_session.mean(),\n",
    "                                         clickstream.groupby('regular').seconds_per_session.mean(),\n",
    "                                         clickstream.groupby('special offer').seconds_per_session.mean()], axis = 1)\n",
    "average_seconds_by_category.columns = ['brand','missing','regular','special offer']\n",
    "dp.stacked_bar_chart(average_seconds_by_category, 'Average Seconds by Category')"
   ]
  },
  {
   "cell_type": "code",
   "execution_count": 31,
   "id": "cc349da1-b439-41f8-b69f-3209963dc8d2",
   "metadata": {},
   "outputs": [
    {
     "data": {
      "image/png": "[encoded data removed]",
      "text/plain": [
       "<Figure size 432x288 with 1 Axes>"
      ]
     },
     "metadata": {
      "needs_background": "light"
     },
     "output_type": "display_data"
    }
   ],
   "source": [
    "average_items_by_category = pd.concat([clickstream.groupby('brand').count_unique_items.mean(),\n",
    "                                         clickstream.groupby('missing').count_unique_items.mean(),\n",
    "                                         clickstream.groupby('regular').count_unique_items.mean(),\n",
    "                                         clickstream.groupby('special offer').count_unique_items.mean()], axis = 1)\n",
    "average_items_by_category.columns = ['brand','missing','regular','special offer']\n",
    "dp.stacked_bar_chart(average_items_by_category, 'Average Distinct Items by Category')"
   ]
  },
  {
   "cell_type": "markdown",
   "id": "a7135110-7a8c-4c29-87b1-eb2a1066950b",
   "metadata": {},
   "source": [
    "### Key Takeaways\n",
    "- Continuous variables: Total clicks, seconds per session, count of unique items\n",
    "    - These variables have postive skew distributions.\n",
    "- Categorical variables (one-hot encoded): brand, missing, regular, special offer\n",
    "    - Special offers have the highest coverage in the dataset\n",
    "    - Missing have the highest number of clicks, distinct items, and average seconds per sessoin\n",
    "\n",
    "---"
   ]
  },
  {
   "cell_type": "markdown",
   "id": "8c4a7d34-4326-46da-b624-f1af3cf41bce",
   "metadata": {
    "jp-MarkdownHeadingCollapsed": true,
    "tags": []
   },
   "source": [
    "# 3. Purchase Response Variable"
   ]
  },
  {
   "cell_type": "code",
   "execution_count": 32,
   "id": "24a874ca-7f2a-42ae-8df1-b00b6577493d",
   "metadata": {},
   "outputs": [
    {
     "data": {
      "text/html": [
       "<div>\n",
       "<style scoped>\n",
       "    .dataframe tbody tr th:only-of-type {\n",
       "        vertical-align: middle;\n",
       "    }\n",
       "\n",
       "    .dataframe tbody tr th {\n",
       "        vertical-align: top;\n",
       "    }\n",
       "\n",
       "    .dataframe thead th {\n",
       "        text-align: right;\n",
       "    }\n",
       "</style>\n",
       "<table border=\"1\" class=\"dataframe\">\n",
       "  <thead>\n",
       "    <tr style=\"text-align: right;\">\n",
       "      <th></th>\n",
       "      <th>timestamp</th>\n",
       "      <th>item_id</th>\n",
       "      <th>price</th>\n",
       "      <th>quantity</th>\n",
       "    </tr>\n",
       "    <tr>\n",
       "      <th>session_id</th>\n",
       "      <th></th>\n",
       "      <th></th>\n",
       "      <th></th>\n",
       "      <th></th>\n",
       "    </tr>\n",
       "  </thead>\n",
       "  <tbody>\n",
       "    <tr>\n",
       "      <th>9195066</th>\n",
       "      <td>2020-09-01 14:00:26.131</td>\n",
       "      <td>214711307</td>\n",
       "      <td>523</td>\n",
       "      <td>2</td>\n",
       "    </tr>\n",
       "    <tr>\n",
       "      <th>9195066</th>\n",
       "      <td>2020-09-01 14:00:26.222</td>\n",
       "      <td>214705734</td>\n",
       "      <td>1046</td>\n",
       "      <td>1</td>\n",
       "    </tr>\n",
       "    <tr>\n",
       "      <th>9195177</th>\n",
       "      <td>2020-09-01 21:52:33.431</td>\n",
       "      <td>214705659</td>\n",
       "      <td>1674</td>\n",
       "      <td>1</td>\n",
       "    </tr>\n",
       "    <tr>\n",
       "      <th>9195177</th>\n",
       "      <td>2020-09-01 21:52:33.444</td>\n",
       "      <td>214849057</td>\n",
       "      <td>941</td>\n",
       "      <td>1</td>\n",
       "    </tr>\n",
       "    <tr>\n",
       "      <th>9195209</th>\n",
       "      <td>2020-09-01 13:54:02.664</td>\n",
       "      <td>214545932</td>\n",
       "      <td>16650</td>\n",
       "      <td>1</td>\n",
       "    </tr>\n",
       "  </tbody>\n",
       "</table>\n",
       "</div>"
      ],
      "text/plain": [
       "                          timestamp    item_id  price  quantity\n",
       "session_id                                                     \n",
       "9195066     2020-09-01 14:00:26.131  214711307    523         2\n",
       "9195066     2020-09-01 14:00:26.222  214705734   1046         1\n",
       "9195177     2020-09-01 21:52:33.431  214705659   1674         1\n",
       "9195177     2020-09-01 21:52:33.444  214849057    941         1\n",
       "9195209     2020-09-01 13:54:02.664  214545932  16650         1"
      ]
     },
     "execution_count": 32,
     "metadata": {},
     "output_type": "execute_result"
    }
   ],
   "source": [
    "purchase.head()"
   ]
  },
  {
   "cell_type": "code",
   "execution_count": 33,
   "id": "0ff47d5e-407c-494a-be11-a9f59d76cc7e",
   "metadata": {},
   "outputs": [
    {
     "name": "stdout",
     "output_type": "stream",
     "text": [
      "count     69439.000000\n",
      "mean       7737.944887\n",
      "std       12271.045296\n",
      "min          93.000000\n",
      "25%        2510.000000\n",
      "50%        4288.000000\n",
      "75%        8376.500000\n",
      "max      397726.000000\n",
      "Name: revenue, dtype: float64\n"
     ]
    },
    {
     "data": {
      "image/png": "[encoded data removed]",
      "text/plain": [
       "<Figure size 432x288 with 2 Axes>"
      ]
     },
     "metadata": {
      "needs_background": "light"
     },
     "output_type": "display_data"
    }
   ],
   "source": [
    "purchase['revenue'] = purchase['price'] * purchase['quantity'] \n",
    "total_revenue = purchase.groupby(level=0).revenue.sum()\n",
    "dp.stat_plots(total_revenue.reset_index(), 'revenue')"
   ]
  },
  {
   "cell_type": "markdown",
   "id": "4ec1e26d-21bd-4fff-be91-f4a9d8becfb9",
   "metadata": {
    "tags": []
   },
   "source": [
    "# 4. Feature Table"
   ]
  },
  {
   "cell_type": "code",
   "execution_count": 34,
   "id": "ff511e0f-4d02-45e5-9d0e-3e5f473a0e68",
   "metadata": {},
   "outputs": [
    {
     "data": {
      "text/html": [
       "<div>\n",
       "<style scoped>\n",
       "    .dataframe tbody tr th:only-of-type {\n",
       "        vertical-align: middle;\n",
       "    }\n",
       "\n",
       "    .dataframe tbody tr th {\n",
       "        vertical-align: top;\n",
       "    }\n",
       "\n",
       "    .dataframe thead th {\n",
       "        text-align: right;\n",
       "    }\n",
       "</style>\n",
       "<table border=\"1\" class=\"dataframe\">\n",
       "  <thead>\n",
       "    <tr style=\"text-align: right;\">\n",
       "      <th></th>\n",
       "      <th>total_clicks</th>\n",
       "      <th>seconds_per_session</th>\n",
       "      <th>count_unique_items</th>\n",
       "      <th>brand</th>\n",
       "      <th>missing</th>\n",
       "      <th>regular</th>\n",
       "      <th>special offer</th>\n",
       "      <th>revenue</th>\n",
       "      <th>binary_revenue</th>\n",
       "    </tr>\n",
       "    <tr>\n",
       "      <th>session_id</th>\n",
       "      <th></th>\n",
       "      <th></th>\n",
       "      <th></th>\n",
       "      <th></th>\n",
       "      <th></th>\n",
       "      <th></th>\n",
       "      <th></th>\n",
       "      <th></th>\n",
       "      <th></th>\n",
       "    </tr>\n",
       "  </thead>\n",
       "  <tbody>\n",
       "    <tr>\n",
       "      <th>9194112</th>\n",
       "      <td>1</td>\n",
       "      <td>0.000</td>\n",
       "      <td>1</td>\n",
       "      <td>0</td>\n",
       "      <td>0</td>\n",
       "      <td>0</td>\n",
       "      <td>1</td>\n",
       "      <td>0.0</td>\n",
       "      <td>0</td>\n",
       "    </tr>\n",
       "    <tr>\n",
       "      <th>9194127</th>\n",
       "      <td>3</td>\n",
       "      <td>165.216</td>\n",
       "      <td>1</td>\n",
       "      <td>0</td>\n",
       "      <td>0</td>\n",
       "      <td>1</td>\n",
       "      <td>0</td>\n",
       "      <td>0.0</td>\n",
       "      <td>0</td>\n",
       "    </tr>\n",
       "    <tr>\n",
       "      <th>9194132</th>\n",
       "      <td>2</td>\n",
       "      <td>45.264</td>\n",
       "      <td>2</td>\n",
       "      <td>0</td>\n",
       "      <td>1</td>\n",
       "      <td>0</td>\n",
       "      <td>0</td>\n",
       "      <td>0.0</td>\n",
       "      <td>0</td>\n",
       "    </tr>\n",
       "    <tr>\n",
       "      <th>9194132</th>\n",
       "      <td>2</td>\n",
       "      <td>45.264</td>\n",
       "      <td>2</td>\n",
       "      <td>0</td>\n",
       "      <td>0</td>\n",
       "      <td>0</td>\n",
       "      <td>1</td>\n",
       "      <td>0.0</td>\n",
       "      <td>0</td>\n",
       "    </tr>\n",
       "    <tr>\n",
       "      <th>9194152</th>\n",
       "      <td>3</td>\n",
       "      <td>136.419</td>\n",
       "      <td>3</td>\n",
       "      <td>0</td>\n",
       "      <td>0</td>\n",
       "      <td>0</td>\n",
       "      <td>1</td>\n",
       "      <td>0.0</td>\n",
       "      <td>0</td>\n",
       "    </tr>\n",
       "  </tbody>\n",
       "</table>\n",
       "</div>"
      ],
      "text/plain": [
       "            total_clicks  seconds_per_session  count_unique_items  brand  \\\n",
       "session_id                                                                 \n",
       "9194112                1                0.000                   1      0   \n",
       "9194127                3              165.216                   1      0   \n",
       "9194132                2               45.264                   2      0   \n",
       "9194132                2               45.264                   2      0   \n",
       "9194152                3              136.419                   3      0   \n",
       "\n",
       "            missing  regular  special offer  revenue  binary_revenue  \n",
       "session_id                                                            \n",
       "9194112           0        0              1      0.0               0  \n",
       "9194127           0        1              0      0.0               0  \n",
       "9194132           1        0              0      0.0               0  \n",
       "9194132           0        0              1      0.0               0  \n",
       "9194152           0        0              1      0.0               0  "
      ]
     },
     "execution_count": 34,
     "metadata": {},
     "output_type": "execute_result"
    }
   ],
   "source": [
    "feature_table = clickstream.join(total_revenue).drop_duplicates()\n",
    "feature_table['binary_revenue'] = feature_table.revenue.notna().astype(int)\n",
    "feature_table['revenue'] = feature_table['revenue'].fillna(0)\n",
    "feature_table.head()"
   ]
  },
  {
   "cell_type": "code",
   "execution_count": 35,
   "id": "0bc4aa46-0419-4698-8e29-965cca77fb28",
   "metadata": {},
   "outputs": [
    {
     "data": {
      "image/png": "[encoded data removed]",
      "text/plain": [
       "<Figure size 432x288 with 1 Axes>"
      ]
     },
     "metadata": {
      "needs_background": "light"
     },
     "output_type": "display_data"
    }
   ],
   "source": [
    "average_revenue_category = pd.concat([feature_table[feature_table.binary_revenue == 1].groupby(['brand']).revenue.mean(),\n",
    "                                        feature_table[feature_table.binary_revenue == 1].groupby(['missing']).revenue.mean(),\n",
    "                                        feature_table[feature_table.binary_revenue == 1].groupby(['regular']).revenue.mean(),\n",
    "                                        feature_table[feature_table.binary_revenue == 1].groupby(['special offer']).revenue.mean()], axis = 1)\n",
    "average_revenue_category.columns = ['brand','missing','regular','special offer']\n",
    "dp.stacked_bar_chart(average_revenue_category, 'Average Revenue by Category')"
   ]
  },
  {
   "cell_type": "code",
   "execution_count": 36,
   "id": "13b57778-b9d4-459d-9cd6-51d363f031ad",
   "metadata": {},
   "outputs": [
    {
     "name": "stdout",
     "output_type": "stream",
     "text": [
      "Short     0.416493\n",
      "Medium    0.365428\n",
      "Long      0.218079\n",
      "Name: seconds_bin, dtype: float64\n"
     ]
    },
    {
     "data": {
      "image/png": "[encoded data removed]",
      "text/plain": [
       "<Figure size 432x288 with 1 Axes>"
      ]
     },
     "metadata": {
      "needs_background": "light"
     },
     "output_type": "display_data"
    }
   ],
   "source": [
    "conditions = [\n",
    "    (feature_table.seconds_per_session >= 0) & (feature_table.seconds_per_session <= 200),\n",
    "    (feature_table.seconds_per_session > 200) & (feature_table.seconds_per_session <= 800),\n",
    "    (feature_table.seconds_per_session > 800)\n",
    "]\n",
    "choices = ['Short', 'Medium', 'Long']\n",
    "feature_table['seconds_bin'] = np.select(conditions, choices, default=np.nan)\n",
    "feature_table['seconds_bin'].value_counts(normalize = True)\n",
    "feature_table.groupby('seconds_bin').revenue.mean().plot.bar()\n",
    "print(feature_table.seconds_bin.value_counts(normalize = True))"
   ]
  },
  {
   "cell_type": "code",
   "execution_count": 37,
   "id": "17d47e15-8fa5-40ec-b08a-5afe91330dad",
   "metadata": {},
   "outputs": [
    {
     "data": {
      "text/html": [
       "<div>\n",
       "<style scoped>\n",
       "    .dataframe tbody tr th:only-of-type {\n",
       "        vertical-align: middle;\n",
       "    }\n",
       "\n",
       "    .dataframe tbody tr th {\n",
       "        vertical-align: top;\n",
       "    }\n",
       "\n",
       "    .dataframe thead th {\n",
       "        text-align: right;\n",
       "    }\n",
       "</style>\n",
       "<table border=\"1\" class=\"dataframe\">\n",
       "  <thead>\n",
       "    <tr style=\"text-align: right;\">\n",
       "      <th></th>\n",
       "      <th>revenue</th>\n",
       "      <th>seconds_per_session</th>\n",
       "    </tr>\n",
       "  </thead>\n",
       "  <tbody>\n",
       "    <tr>\n",
       "      <th>revenue</th>\n",
       "      <td>1.00000</td>\n",
       "      <td>0.10219</td>\n",
       "    </tr>\n",
       "    <tr>\n",
       "      <th>seconds_per_session</th>\n",
       "      <td>0.10219</td>\n",
       "      <td>1.00000</td>\n",
       "    </tr>\n",
       "  </tbody>\n",
       "</table>\n",
       "</div>"
      ],
      "text/plain": [
       "                     revenue  seconds_per_session\n",
       "revenue              1.00000              0.10219\n",
       "seconds_per_session  0.10219              1.00000"
      ]
     },
     "execution_count": 37,
     "metadata": {},
     "output_type": "execute_result"
    }
   ],
   "source": [
    "feature_table[feature_table.binary_revenue == 1][['revenue','seconds_per_session']].drop_duplicates().corr()"
   ]
  },
  {
   "cell_type": "code",
   "execution_count": 38,
   "id": "611ddc3d-4870-459b-b2d2-33ad15399a13",
   "metadata": {},
   "outputs": [
    {
     "data": {
      "text/plain": [
       "<AxesSubplot:xlabel='seconds_per_session', ylabel='revenue'>"
      ]
     },
     "execution_count": 38,
     "metadata": {},
     "output_type": "execute_result"
    },
    {
     "data": {
      "image/png": "[encoded data removed]",
      "text/plain": [
       "<Figure size 432x288 with 1 Axes>"
      ]
     },
     "metadata": {
      "needs_background": "light"
     },
     "output_type": "display_data"
    }
   ],
   "source": [
    "feature_table[feature_table.binary_revenue == 1][['revenue','seconds_per_session']].drop_duplicates().plot.scatter(x = 'seconds_per_session', y = 'revenue')"
   ]
  },
  {
   "cell_type": "code",
   "execution_count": 39,
   "id": "f2b06704-ea9f-4a70-84fe-718092e5a5fc",
   "metadata": {},
   "outputs": [
    {
     "data": {
      "text/html": [
       "<div>\n",
       "<style scoped>\n",
       "    .dataframe tbody tr th:only-of-type {\n",
       "        vertical-align: middle;\n",
       "    }\n",
       "\n",
       "    .dataframe tbody tr th {\n",
       "        vertical-align: top;\n",
       "    }\n",
       "\n",
       "    .dataframe thead th {\n",
       "        text-align: right;\n",
       "    }\n",
       "</style>\n",
       "<table border=\"1\" class=\"dataframe\">\n",
       "  <thead>\n",
       "    <tr style=\"text-align: right;\">\n",
       "      <th></th>\n",
       "      <th>total_clicks</th>\n",
       "      <th>seconds_per_session</th>\n",
       "      <th>count_unique_items</th>\n",
       "      <th>brand</th>\n",
       "      <th>missing</th>\n",
       "      <th>regular</th>\n",
       "      <th>special offer</th>\n",
       "      <th>revenue</th>\n",
       "      <th>binary_revenue</th>\n",
       "    </tr>\n",
       "    <tr>\n",
       "      <th>session_id</th>\n",
       "      <th></th>\n",
       "      <th></th>\n",
       "      <th></th>\n",
       "      <th></th>\n",
       "      <th></th>\n",
       "      <th></th>\n",
       "      <th></th>\n",
       "      <th></th>\n",
       "      <th></th>\n",
       "    </tr>\n",
       "  </thead>\n",
       "  <tbody>\n",
       "    <tr>\n",
       "      <th>9194112</th>\n",
       "      <td>1</td>\n",
       "      <td>0.000</td>\n",
       "      <td>1</td>\n",
       "      <td>0</td>\n",
       "      <td>0</td>\n",
       "      <td>0</td>\n",
       "      <td>1</td>\n",
       "      <td>0.0</td>\n",
       "      <td>0</td>\n",
       "    </tr>\n",
       "    <tr>\n",
       "      <th>9194127</th>\n",
       "      <td>3</td>\n",
       "      <td>165.216</td>\n",
       "      <td>1</td>\n",
       "      <td>0</td>\n",
       "      <td>0</td>\n",
       "      <td>1</td>\n",
       "      <td>0</td>\n",
       "      <td>0.0</td>\n",
       "      <td>0</td>\n",
       "    </tr>\n",
       "    <tr>\n",
       "      <th>9194132</th>\n",
       "      <td>2</td>\n",
       "      <td>45.264</td>\n",
       "      <td>2</td>\n",
       "      <td>0</td>\n",
       "      <td>1</td>\n",
       "      <td>0</td>\n",
       "      <td>0</td>\n",
       "      <td>0.0</td>\n",
       "      <td>0</td>\n",
       "    </tr>\n",
       "    <tr>\n",
       "      <th>9194132</th>\n",
       "      <td>2</td>\n",
       "      <td>45.264</td>\n",
       "      <td>2</td>\n",
       "      <td>0</td>\n",
       "      <td>0</td>\n",
       "      <td>0</td>\n",
       "      <td>1</td>\n",
       "      <td>0.0</td>\n",
       "      <td>0</td>\n",
       "    </tr>\n",
       "    <tr>\n",
       "      <th>9194152</th>\n",
       "      <td>3</td>\n",
       "      <td>136.419</td>\n",
       "      <td>3</td>\n",
       "      <td>0</td>\n",
       "      <td>0</td>\n",
       "      <td>0</td>\n",
       "      <td>1</td>\n",
       "      <td>0.0</td>\n",
       "      <td>0</td>\n",
       "    </tr>\n",
       "  </tbody>\n",
       "</table>\n",
       "</div>"
      ],
      "text/plain": [
       "            total_clicks  seconds_per_session  count_unique_items  brand  \\\n",
       "session_id                                                                 \n",
       "9194112                1                0.000                   1      0   \n",
       "9194127                3              165.216                   1      0   \n",
       "9194132                2               45.264                   2      0   \n",
       "9194132                2               45.264                   2      0   \n",
       "9194152                3              136.419                   3      0   \n",
       "\n",
       "            missing  regular  special offer  revenue  binary_revenue  \n",
       "session_id                                                            \n",
       "9194112           0        0              1      0.0               0  \n",
       "9194127           0        1              0      0.0               0  \n",
       "9194132           1        0              0      0.0               0  \n",
       "9194132           0        0              1      0.0               0  \n",
       "9194152           0        0              1      0.0               0  "
      ]
     },
     "execution_count": 39,
     "metadata": {},
     "output_type": "execute_result"
    }
   ],
   "source": [
    "feature_table = feature_table.drop('seconds_bin', axis = 1)\n",
    "feature_table.head()"
   ]
  },
  {
   "cell_type": "code",
   "execution_count": 40,
   "id": "154db5b7-3e38-466c-8176-d3b8b20a596b",
   "metadata": {},
   "outputs": [],
   "source": [
    "classification = feature_table.drop('revenue', axis = 1)\n",
    "regression = feature_table[feature_table.binary_revenue == 1].drop('binary_revenue', axis = 1)"
   ]
  },
  {
   "cell_type": "markdown",
   "id": "ec068573-2dab-46fa-bf8a-634d3d6d996a",
   "metadata": {
    "tags": []
   },
   "source": [
    "# 5. Binary Classification models"
   ]
  },
  {
   "cell_type": "code",
   "execution_count": 26,
   "id": "7b673f1d-d369-4b32-819c-67cea4d57cec",
   "metadata": {},
   "outputs": [
    {
     "data": {
      "text/html": [
       "<div>\n",
       "<style scoped>\n",
       "    .dataframe tbody tr th:only-of-type {\n",
       "        vertical-align: middle;\n",
       "    }\n",
       "\n",
       "    .dataframe tbody tr th {\n",
       "        vertical-align: top;\n",
       "    }\n",
       "\n",
       "    .dataframe thead th {\n",
       "        text-align: right;\n",
       "    }\n",
       "</style>\n",
       "<table border=\"1\" class=\"dataframe\">\n",
       "  <thead>\n",
       "    <tr style=\"text-align: right;\">\n",
       "      <th></th>\n",
       "      <th>total_clicks</th>\n",
       "      <th>seconds_per_session</th>\n",
       "      <th>count_unique_items</th>\n",
       "      <th>brand</th>\n",
       "      <th>missing</th>\n",
       "      <th>regular</th>\n",
       "      <th>special offer</th>\n",
       "      <th>binary_revenue</th>\n",
       "    </tr>\n",
       "    <tr>\n",
       "      <th>session_id</th>\n",
       "      <th></th>\n",
       "      <th></th>\n",
       "      <th></th>\n",
       "      <th></th>\n",
       "      <th></th>\n",
       "      <th></th>\n",
       "      <th></th>\n",
       "      <th></th>\n",
       "    </tr>\n",
       "  </thead>\n",
       "  <tbody>\n",
       "    <tr>\n",
       "      <th>9194112</th>\n",
       "      <td>1</td>\n",
       "      <td>0.000</td>\n",
       "      <td>1</td>\n",
       "      <td>0</td>\n",
       "      <td>0</td>\n",
       "      <td>0</td>\n",
       "      <td>1</td>\n",
       "      <td>0</td>\n",
       "    </tr>\n",
       "    <tr>\n",
       "      <th>9194127</th>\n",
       "      <td>3</td>\n",
       "      <td>165.216</td>\n",
       "      <td>1</td>\n",
       "      <td>0</td>\n",
       "      <td>0</td>\n",
       "      <td>1</td>\n",
       "      <td>0</td>\n",
       "      <td>0</td>\n",
       "    </tr>\n",
       "    <tr>\n",
       "      <th>9194132</th>\n",
       "      <td>2</td>\n",
       "      <td>45.264</td>\n",
       "      <td>2</td>\n",
       "      <td>0</td>\n",
       "      <td>1</td>\n",
       "      <td>0</td>\n",
       "      <td>0</td>\n",
       "      <td>0</td>\n",
       "    </tr>\n",
       "    <tr>\n",
       "      <th>9194132</th>\n",
       "      <td>2</td>\n",
       "      <td>45.264</td>\n",
       "      <td>2</td>\n",
       "      <td>0</td>\n",
       "      <td>0</td>\n",
       "      <td>0</td>\n",
       "      <td>1</td>\n",
       "      <td>0</td>\n",
       "    </tr>\n",
       "    <tr>\n",
       "      <th>9194152</th>\n",
       "      <td>3</td>\n",
       "      <td>136.419</td>\n",
       "      <td>3</td>\n",
       "      <td>0</td>\n",
       "      <td>0</td>\n",
       "      <td>0</td>\n",
       "      <td>1</td>\n",
       "      <td>0</td>\n",
       "    </tr>\n",
       "  </tbody>\n",
       "</table>\n",
       "</div>"
      ],
      "text/plain": [
       "            total_clicks  seconds_per_session  count_unique_items  brand  \\\n",
       "session_id                                                                 \n",
       "9194112                1                0.000                   1      0   \n",
       "9194127                3              165.216                   1      0   \n",
       "9194132                2               45.264                   2      0   \n",
       "9194132                2               45.264                   2      0   \n",
       "9194152                3              136.419                   3      0   \n",
       "\n",
       "            missing  regular  special offer  binary_revenue  \n",
       "session_id                                                   \n",
       "9194112           0        0              1               0  \n",
       "9194127           0        1              0               0  \n",
       "9194132           1        0              0               0  \n",
       "9194132           0        0              1               0  \n",
       "9194152           0        0              1               0  "
      ]
     },
     "execution_count": 26,
     "metadata": {},
     "output_type": "execute_result"
    }
   ],
   "source": [
    "classification.head()"
   ]
  },
  {
   "cell_type": "code",
   "execution_count": 69,
   "id": "6cbbf23d-3ed3-4847-a6ee-96c6349fe7ce",
   "metadata": {},
   "outputs": [],
   "source": [
    "X_train, X_test, y_train, y_test = ds._split_data(classification, 'binary_revenue', 0.25)"
   ]
  },
  {
   "cell_type": "code",
   "execution_count": 72,
   "id": "bf530468-15d9-470d-9c21-24589778f116",
   "metadata": {},
   "outputs": [],
   "source": [
    "smote = SMOTE()\n",
    "X_res, y_res = smote.fit_resample(X_train, y_train)\n",
    "X_res_st, y_res_st = smote.fit_resample(X_train_st, y_train_st)"
   ]
  },
  {
   "cell_type": "code",
   "execution_count": 29,
   "id": "9d59bb94-4fbd-4ee3-9b35-804652c707fe",
   "metadata": {},
   "outputs": [
    {
     "data": {
      "image/png": "[encoded data removed]",
      "text/plain": [
       "<Figure size 864x432 with 2 Axes>"
      ]
     },
     "metadata": {
      "needs_background": "light"
     },
     "output_type": "display_data"
    },
    {
     "name": "stdout",
     "output_type": "stream",
     "text": [
      "              precision    recall  f1-score   support\n",
      "\n",
      "           0       0.96      0.72      0.82    251310\n",
      "           1       0.17      0.64      0.27     22235\n",
      "\n",
      "    accuracy                           0.72    273545\n",
      "   macro avg       0.56      0.68      0.55    273545\n",
      "weighted avg       0.89      0.72      0.78    273545\n",
      "\n"
     ]
    }
   ],
   "source": [
    "randomForestClass, randomForestClass_metrics = ds.randomForestClassifier(X_res, X_test, y_res, y_test, 5)"
   ]
  },
  {
   "cell_type": "code",
   "execution_count": 30,
   "id": "2618fa19-2f53-4e6d-8877-f5f18ec5b888",
   "metadata": {},
   "outputs": [
    {
     "data": {
      "image/png": "[encoded data removed]",
      "text/plain": [
       "<Figure size 864x432 with 2 Axes>"
      ]
     },
     "metadata": {
      "needs_background": "light"
     },
     "output_type": "display_data"
    },
    {
     "name": "stdout",
     "output_type": "stream",
     "text": [
      "              precision    recall  f1-score   support\n",
      "\n",
      "           0       0.96      0.67      0.79    251310\n",
      "           1       0.15      0.69      0.25     22235\n",
      "\n",
      "    accuracy                           0.67    273545\n",
      "   macro avg       0.56      0.68      0.52    273545\n",
      "weighted avg       0.89      0.67      0.74    273545\n",
      "\n"
     ]
    }
   ],
   "source": [
    "adaBoostClass, adaBoostClass_metrics = ds.adaBoostClassifier(X_res, X_test, y_res, y_test, 5)"
   ]
  },
  {
   "cell_type": "code",
   "execution_count": 47,
   "id": "fe357d48-8820-4372-9b24-79031eb5f9b1",
   "metadata": {},
   "outputs": [
    {
     "name": "stdout",
     "output_type": "stream",
     "text": [
      "[09:41:51] WARNING: ../src/learner.cc:1115: Starting in XGBoost 1.3.0, the default evaluation metric used with the objective 'binary:logistic' was changed from 'error' to 'logloss'. Explicitly set eval_metric if you'd like to restore the old behavior.\n",
      "[09:47:31] WARNING: ../src/learner.cc:1115: Starting in XGBoost 1.3.0, the default evaluation metric used with the objective 'binary:logistic' was changed from 'error' to 'logloss'. Explicitly set eval_metric if you'd like to restore the old behavior.\n",
      "[09:52:23] WARNING: ../src/learner.cc:1115: Starting in XGBoost 1.3.0, the default evaluation metric used with the objective 'binary:logistic' was changed from 'error' to 'logloss'. Explicitly set eval_metric if you'd like to restore the old behavior.\n",
      "[09:57:35] WARNING: ../src/learner.cc:1115: Starting in XGBoost 1.3.0, the default evaluation metric used with the objective 'binary:logistic' was changed from 'error' to 'logloss'. Explicitly set eval_metric if you'd like to restore the old behavior.\n",
      "Important Features: ['total_clicks', 'seconds_per_session', 'missing', 'regular', 'special offer']\n"
     ]
    },
    {
     "data": {
      "image/png": "[encoded data removed]",
      "text/plain": [
       "<Figure size 864x432 with 2 Axes>"
      ]
     },
     "metadata": {
      "needs_background": "light"
     },
     "output_type": "display_data"
    },
    {
     "name": "stdout",
     "output_type": "stream",
     "text": [
      "              precision    recall  f1-score   support\n",
      "\n",
      "           0       0.95      0.75      0.84    251310\n",
      "           1       0.17      0.58      0.26     22235\n",
      "\n",
      "    accuracy                           0.74    273545\n",
      "   macro avg       0.56      0.66      0.55    273545\n",
      "weighted avg       0.89      0.74      0.79    273545\n",
      "\n"
     ]
    }
   ],
   "source": [
    "xgBoostClass, xgBoostClass_metrics = ds.xgboostClassifier(X_res, X_test, y_res, y_test, 5)"
   ]
  },
  {
   "cell_type": "markdown",
   "id": "8c61853e-e802-41fe-a8cf-f34ea3033457",
   "metadata": {
    "tags": []
   },
   "source": [
    "# 6. Regression Models"
   ]
  },
  {
   "cell_type": "code",
   "execution_count": null,
   "id": "4566b2f8-f4a1-42fb-8940-47f2556c4f0b",
   "metadata": {},
   "outputs": [],
   "source": [
    "X_train_reg, X_test_reg, y_train_reg, y_test_reg = ds._split_data(regression, 'revenue', 0.25)"
   ]
  },
  {
   "cell_type": "code",
   "execution_count": 32,
   "id": "d521fb13-2c17-41ef-b282-489529be76c8",
   "metadata": {},
   "outputs": [
    {
     "name": "stdout",
     "output_type": "stream",
     "text": [
      "MSE: 120996487.9327\n",
      "Explained variance: 0.031\n"
     ]
    },
    {
     "data": {
      "image/png": "[encoded data removed]",
      "text/plain": [
       "<Figure size 432x432 with 1 Axes>"
      ]
     },
     "metadata": {
      "needs_background": "light"
     },
     "output_type": "display_data"
    },
    {
     "data": {
      "image/png": "[encoded data removed]",
      "text/plain": [
       "<Figure size 864x432 with 2 Axes>"
      ]
     },
     "metadata": {
      "needs_background": "light"
     },
     "output_type": "display_data"
    }
   ],
   "source": [
    "gradientBoostingRegressor, gradientBoostingRegressor_metrics = ds.gradientBoostingRegressor(X_train_reg, X_test_reg, y_train_reg, y_test_reg, 5)"
   ]
  },
  {
   "cell_type": "code",
   "execution_count": 34,
   "id": "28cde419-b962-4f66-8f28-8dceb95f05d3",
   "metadata": {},
   "outputs": [
    {
     "name": "stdout",
     "output_type": "stream",
     "text": [
      "Base model with all features ...\n",
      "MSE: 122943032.9075\n",
      "Explained variance: 0.015\n"
     ]
    },
    {
     "data": {
      "image/png": "[encoded data removed]",
      "text/plain": [
       "<Figure size 432x288 with 1 Axes>"
      ]
     },
     "metadata": {
      "needs_background": "light"
     },
     "output_type": "display_data"
    }
   ],
   "source": [
    "decisionTreeRegressor, decisionTreeRegressor_metrics = ds.DecisionTree(X_train_reg, X_test_reg, y_train_reg, y_test_reg)"
   ]
  },
  {
   "cell_type": "markdown",
   "id": "09000b13-6e43-4e65-b794-6087d5014bc6",
   "metadata": {},
   "source": [
    "# 7. Inference"
   ]
  },
  {
   "cell_type": "code",
   "execution_count": 45,
   "id": "b3c709b2-37d6-48d7-aefe-a7c3f0bc9165",
   "metadata": {},
   "outputs": [
    {
     "data": {
      "text/html": [
       "<div>\n",
       "<style scoped>\n",
       "    .dataframe tbody tr th:only-of-type {\n",
       "        vertical-align: middle;\n",
       "    }\n",
       "\n",
       "    .dataframe tbody tr th {\n",
       "        vertical-align: top;\n",
       "    }\n",
       "\n",
       "    .dataframe thead th {\n",
       "        text-align: right;\n",
       "    }\n",
       "</style>\n",
       "<table border=\"1\" class=\"dataframe\">\n",
       "  <thead>\n",
       "    <tr style=\"text-align: right;\">\n",
       "      <th></th>\n",
       "      <th>timestamp</th>\n",
       "      <th>item_id</th>\n",
       "      <th>category</th>\n",
       "    </tr>\n",
       "    <tr>\n",
       "      <th>session_id</th>\n",
       "      <th></th>\n",
       "      <th></th>\n",
       "      <th></th>\n",
       "    </tr>\n",
       "  </thead>\n",
       "  <tbody>\n",
       "    <tr>\n",
       "      <th>11255548</th>\n",
       "      <td>2020-09-24 19:53:34.517</td>\n",
       "      <td>214830939</td>\n",
       "      <td>S</td>\n",
       "    </tr>\n",
       "    <tr>\n",
       "      <th>11255548</th>\n",
       "      <td>2020-09-24 19:53:48.774</td>\n",
       "      <td>214854444</td>\n",
       "      <td>S</td>\n",
       "    </tr>\n",
       "    <tr>\n",
       "      <th>11255548</th>\n",
       "      <td>2020-09-24 19:54:05.543</td>\n",
       "      <td>214830384</td>\n",
       "      <td>S</td>\n",
       "    </tr>\n",
       "    <tr>\n",
       "      <th>11255549</th>\n",
       "      <td>2020-09-25 10:25:55.459</td>\n",
       "      <td>214716973</td>\n",
       "      <td>1</td>\n",
       "    </tr>\n",
       "    <tr>\n",
       "      <th>11255549</th>\n",
       "      <td>2020-09-25 10:36:02.230</td>\n",
       "      <td>214716937</td>\n",
       "      <td>1</td>\n",
       "    </tr>\n",
       "  </tbody>\n",
       "</table>\n",
       "</div>"
      ],
      "text/plain": [
       "                          timestamp    item_id category\n",
       "session_id                                             \n",
       "11255548    2020-09-24 19:53:34.517  214830939        S\n",
       "11255548    2020-09-24 19:53:48.774  214854444        S\n",
       "11255548    2020-09-24 19:54:05.543  214830384        S\n",
       "11255549    2020-09-25 10:25:55.459  214716973        1\n",
       "11255549    2020-09-25 10:36:02.230  214716937        1"
      ]
     },
     "execution_count": 45,
     "metadata": {},
     "output_type": "execute_result"
    }
   ],
   "source": [
    "test.head()"
   ]
  },
  {
   "cell_type": "code",
   "execution_count": 46,
   "id": "431958a1-bafc-4951-a3e2-f2a61a0f0e17",
   "metadata": {},
   "outputs": [
    {
     "data": {
      "text/html": [
       "<div>\n",
       "<style scoped>\n",
       "    .dataframe tbody tr th:only-of-type {\n",
       "        vertical-align: middle;\n",
       "    }\n",
       "\n",
       "    .dataframe tbody tr th {\n",
       "        vertical-align: top;\n",
       "    }\n",
       "\n",
       "    .dataframe thead th {\n",
       "        text-align: right;\n",
       "    }\n",
       "</style>\n",
       "<table border=\"1\" class=\"dataframe\">\n",
       "  <thead>\n",
       "    <tr style=\"text-align: right;\">\n",
       "      <th></th>\n",
       "      <th>total_clicks</th>\n",
       "      <th>seconds_per_session</th>\n",
       "      <th>count_unique_items</th>\n",
       "      <th>brand</th>\n",
       "      <th>missing</th>\n",
       "      <th>regular</th>\n",
       "      <th>special offer</th>\n",
       "    </tr>\n",
       "    <tr>\n",
       "      <th>session_id</th>\n",
       "      <th></th>\n",
       "      <th></th>\n",
       "      <th></th>\n",
       "      <th></th>\n",
       "      <th></th>\n",
       "      <th></th>\n",
       "      <th></th>\n",
       "    </tr>\n",
       "  </thead>\n",
       "  <tbody>\n",
       "    <tr>\n",
       "      <th>11255548</th>\n",
       "      <td>3</td>\n",
       "      <td>31.026</td>\n",
       "      <td>3</td>\n",
       "      <td>0</td>\n",
       "      <td>0</td>\n",
       "      <td>0</td>\n",
       "      <td>1</td>\n",
       "    </tr>\n",
       "    <tr>\n",
       "      <th>11255549</th>\n",
       "      <td>13</td>\n",
       "      <td>3178.709</td>\n",
       "      <td>9</td>\n",
       "      <td>0</td>\n",
       "      <td>0</td>\n",
       "      <td>1</td>\n",
       "      <td>0</td>\n",
       "    </tr>\n",
       "    <tr>\n",
       "      <th>11255549</th>\n",
       "      <td>13</td>\n",
       "      <td>3178.709</td>\n",
       "      <td>9</td>\n",
       "      <td>0</td>\n",
       "      <td>0</td>\n",
       "      <td>0</td>\n",
       "      <td>1</td>\n",
       "    </tr>\n",
       "    <tr>\n",
       "      <th>11255551</th>\n",
       "      <td>2</td>\n",
       "      <td>26.285</td>\n",
       "      <td>1</td>\n",
       "      <td>0</td>\n",
       "      <td>0</td>\n",
       "      <td>1</td>\n",
       "      <td>0</td>\n",
       "    </tr>\n",
       "    <tr>\n",
       "      <th>11255552</th>\n",
       "      <td>2</td>\n",
       "      <td>99.159</td>\n",
       "      <td>2</td>\n",
       "      <td>0</td>\n",
       "      <td>0</td>\n",
       "      <td>0</td>\n",
       "      <td>1</td>\n",
       "    </tr>\n",
       "  </tbody>\n",
       "</table>\n",
       "</div>"
      ],
      "text/plain": [
       "            total_clicks  seconds_per_session  count_unique_items  brand  \\\n",
       "session_id                                                                 \n",
       "11255548               3               31.026                   3      0   \n",
       "11255549              13             3178.709                   9      0   \n",
       "11255549              13             3178.709                   9      0   \n",
       "11255551               2               26.285                   1      0   \n",
       "11255552               2               99.159                   2      0   \n",
       "\n",
       "            missing  regular  special offer  \n",
       "session_id                                   \n",
       "11255548          0        0              1  \n",
       "11255549          0        1              0  \n",
       "11255549          0        0              1  \n",
       "11255551          0        1              0  \n",
       "11255552          0        0              1  "
      ]
     },
     "execution_count": 46,
     "metadata": {},
     "output_type": "execute_result"
    }
   ],
   "source": [
    "total_clicks = dp.total_clicks(test)\n",
    "test = test.join(total_clicks, how='left')\n",
    "\n",
    "seconds_per_session = dp.total_seconds(test)\n",
    "test = test.join(seconds_per_session['seconds_per_session']).drop('timestamp', axis = 1).drop_duplicates()\n",
    "\n",
    "unique_items = dp.count_unique_items(test)\n",
    "test = test.join(unique_items).drop('item_id', axis = 1).drop_duplicates()\n",
    "\n",
    "category_map = dp.category_map(test)\n",
    "test = test.join(pd.get_dummies(category_map)).drop(['category', 'category_map'], axis = 1).drop_duplicates()\n",
    "\n",
    "test.head()"
   ]
  },
  {
   "cell_type": "code",
   "execution_count": 47,
   "id": "60b0595f-8981-46d0-b375-b39d9b27db8c",
   "metadata": {},
   "outputs": [
    {
     "name": "stdout",
     "output_type": "stream",
     "text": [
      "count    213390.000000\n",
      "mean          4.889934\n",
      "std           5.445103\n",
      "min           1.000000\n",
      "25%           2.000000\n",
      "50%           3.000000\n",
      "75%           5.000000\n",
      "max         146.000000\n",
      "Name: total_clicks, dtype: float64\n"
     ]
    },
    {
     "data": {
      "image/png": "[encoded data removed]",
      "text/plain": [
       "<Figure size 432x288 with 2 Axes>"
      ]
     },
     "metadata": {
      "needs_background": "light"
     },
     "output_type": "display_data"
    },
    {
     "name": "stdout",
     "output_type": "stream",
     "text": [
      "--------------------------------------------------------------------------------------------------------------------\n",
      "count    213390.000000\n",
      "mean        618.289308\n",
      "std        1016.118483\n",
      "min           0.000000\n",
      "25%          88.023250\n",
      "50%         245.936500\n",
      "75%         688.801250\n",
      "max       41554.168000\n",
      "Name: seconds_per_session, dtype: float64\n"
     ]
    },
    {
     "data": {
      "image/png": "[encoded data removed]",
      "text/plain": [
       "<Figure size 432x288 with 2 Axes>"
      ]
     },
     "metadata": {
      "needs_background": "light"
     },
     "output_type": "display_data"
    },
    {
     "name": "stdout",
     "output_type": "stream",
     "text": [
      "--------------------------------------------------------------------------------------------------------------------\n",
      "count    213390.000000\n",
      "mean          3.934369\n",
      "std           4.421420\n",
      "min           1.000000\n",
      "25%           2.000000\n",
      "50%           3.000000\n",
      "75%           4.000000\n",
      "max         140.000000\n",
      "Name: count_unique_items, dtype: float64\n"
     ]
    },
    {
     "data": {
      "image/png": "[encoded data removed]",
      "text/plain": [
       "<Figure size 432x288 with 2 Axes>"
      ]
     },
     "metadata": {
      "needs_background": "light"
     },
     "output_type": "display_data"
    }
   ],
   "source": [
    "dp.stat_plots(test, 'total_clicks')\n",
    "print('--------------------------------------------------------------------------------------------------------------------')\n",
    "dp.stat_plots(test, 'seconds_per_session')\n",
    "print('--------------------------------------------------------------------------------------------------------------------')\n",
    "dp.stat_plots(test, 'count_unique_items')"
   ]
  },
  {
   "cell_type": "code",
   "execution_count": null,
   "id": "68d5b65a-9f93-4a03-a9c1-d2901b411e18",
   "metadata": {},
   "outputs": [],
   "source": []
  },
  {
   "cell_type": "code",
   "execution_count": null,
   "id": "955a0166-a64a-4040-8bee-7e7ad9eb8db8",
   "metadata": {},
   "outputs": [],
   "source": []
  },
  {
   "cell_type": "code",
   "execution_count": null,
   "id": "9d1c93de-7085-479e-8421-3af0d1bcd954",
   "metadata": {},
   "outputs": [],
   "source": []
  },
  {
   "cell_type": "code",
   "execution_count": null,
   "id": "331e3d01-c283-4c44-9acb-dbffa81e22b0",
   "metadata": {},
   "outputs": [],
   "source": []
  }
 ],
 "metadata": {
  "kernelspec": {
   "display_name": "PurchasePredictions",
   "language": "python",
   "name": "python3"
  },
  "language_info": {
   "codemirror_mode": {
    "name": "ipython",
    "version": 3
   },
   "file_extension": ".py",
   "mimetype": "text/x-python",
   "name": "python",
   "nbconvert_exporter": "python",
   "pygments_lexer": "ipython3",
   "version": "3.8.9"
  }
 },
 "nbformat": 4,
 "nbformat_minor": 5
}
